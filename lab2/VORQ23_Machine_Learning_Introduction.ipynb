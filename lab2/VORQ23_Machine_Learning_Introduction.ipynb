{
 "nbformat": 4,
 "nbformat_minor": 0,
 "metadata": {
  "colab": {
   "provenance": [],
   "authorship_tag": "ABX9TyMJDlAPPznjD28FEv3GAsp+",
   "include_colab_link": true
  },
  "kernelspec": {
   "name": "python3",
   "language": "python",
   "display_name": "Python 3 (ipykernel)"
  },
  "language_info": {
   "name": "python"
  }
 },
 "cells": [
  {
   "cell_type": "markdown",
   "metadata": {
    "id": "view-in-github",
    "colab_type": "text"
   },
   "source": [
    "<a href=\"https://colab.research.google.com/github/rgoldschmid/VORQ23-Intro-To-ML/blob/main/VORQ23_Machine_Learning_Introduction.ipynb\" target=\"_parent\"><img src=\"https://colab.research.google.com/assets/colab-badge.svg\" alt=\"Open In Colab\"/></a>"
   ]
  },
  {
   "cell_type": "markdown",
   "source": [
    "# Einführung in Machine Learning mit Python\n",
    "\n",
    "## Beispiel: Erkennung der Schwertlilien-Art (Iris) anhand von Messdaten\n",
    "\n",
    "Eines der bekanntesten Datasets für ML ist das Iris-Dataset (https://archive.ics.uci.edu/dataset/53/iris)\n",
    "\n",
    "Dafür wurden verschiedene Gattungen von Schwertlilien auf ihre Blütenblatt- und Kelchblatt-Länge untersucht (petal/sepal length).\n",
    "\n",
    "Folgende Gattungen wurden untersucht:\n",
    "* Iris Setosa\n",
    "* Iris Versicolour\n",
    "* Iris Virginica\n",
    "\n",
    "### Verständnis für das Dataset\n",
    "\n",
    "Es ist immer wichtig zu wissen, mit welchen Daten gearbeitet wird. Hier sehen wir visualisiert, mit was wir es zu tun haben:\n",
    "\n",
    "![Iris](https://www.embedded-robotics.com/wp-content/uploads/2022/01/Iris-Dataset-Classification-1024x367.png)\n",
    "\n",
    "## Aufgabe\n",
    "\n",
    "Anhand der Messdaten wollen wir ein Model trainieren, das die Gattung automatisch erkennen kann, wenn die entsprechenden Blattlängen gegeben sind.\n",
    "\n",
    "### **Lasst uns anfangen!**"
   ],
   "metadata": {
    "id": "saDNc60ZBKzw"
   }
  },
  {
   "cell_type": "markdown",
   "source": [
    "## Importe Verwalten\n",
    "\n",
    "In unserem Notebook können wir Code-Abschnitte strukturieren. Zu beginn erstellen wir einen Abschnitt, um die Importe zu verwalten. Python bietet zwar viel Funktionalität, jedoch benötigen wir noch weitere Libraries um unsere Aufgabe zu erfüllen.\n",
    "\n"
   ],
   "metadata": {
    "id": "dSlNQfN7HXfp"
   }
  },
  {
   "cell_type": "code",
   "execution_count": 35,
   "metadata": {
    "id": "W-PiMeA9-DO3",
    "ExecuteTime": {
     "end_time": "2024-01-19T23:08:05.421916100Z",
     "start_time": "2024-01-19T23:08:05.395842300Z"
    }
   },
   "outputs": [],
   "source": [
    "# Managing all necessary libraries/imports\n",
    "\n",
    "# Libraries that we are going to need\n",
    "import pandas as pd\n",
    "import numpy as np\n",
    "import matplotlib.pyplot as plt\n",
    "from matplotlib.colors import ListedColormap\n",
    "\n",
    "# Task 01: Import datasets\n",
    "from sklearn.datasets import load_iris\n",
    "\n",
    "# Task 03: Import train_test_split\n",
    "from sklearn.model_selection import train_test_split\n",
    "\n",
    "# Task 05: Import KNeighborsClassifier\n",
    "from sklearn.neighbors import KNeighborsClassifier\n",
    "\n",
    "# Task 07: Import confusion_matrix and accuracy_score\n",
    "from sklearn.metrics import confusion_matrix\n",
    "from sklearn.metrics import accuracy_score\n"
   ]
  },
  {
   "cell_type": "code",
   "source": [
    " # Task 02: Load iris dataset from sklearn\n",
    "iris = load_iris()"
   ],
   "metadata": {
    "id": "tQno-0x8-Gsm",
    "ExecuteTime": {
     "end_time": "2024-01-19T23:08:05.462009200Z",
     "start_time": "2024-01-19T23:08:05.424916400Z"
    }
   },
   "execution_count": 36,
   "outputs": []
  },
  {
   "cell_type": "markdown",
   "source": [
    "## Das Datenset laden\n",
    "\n",
    "Zuerst müssen wir uns das Datenset holen. Glücklicherweise existiert eine Library, welche das Datenset integriert hat.\n",
    "\n",
    "### Scikit Learn (https://scikit-learn.org/stable/)\n",
    "\n",
    "Scikit Learn ist eine Open Source Machine Learning Library für Python. Sie enthält eine große Anzahl an bereits implementierten Algorithmen und Funktionalitäten, die wir uns nutze machen können.\n",
    "\n",
    "---\n",
    "\n",
    "### **Task 01**\n",
    "\n",
    "Importiert \"datasets\" von der Scikit-Learn Library (kurz \"sklearn\") im Code-Abschnitt zuvor.\n",
    "\n",
    "*Python Tipp:*\n",
    "```\n",
    "# Syntax for importing a library with python\n",
    "from x import y\n",
    "```\n",
    "\n",
    "Details zum Dataset: https://scikit-learn.org/stable/datasets/toy_dataset.html#iris-plants-dataset\n",
    "\n",
    "---\n",
    "\n",
    "### **Task 02**\n",
    "\n",
    "Speichere das Dataset in einer Variable 'iris'.\n",
    "\n",
    "*Python Tipp:*\n",
    "```\n",
    "# Syntax for creating a variable\n",
    "variable = \"This is a string\"\n",
    "number = 10\n",
    "```\n",
    "\n",
    "Dokumentation: https://scikit-learn.org/stable/modules/generated/sklearn.datasets.load_iris.html#sklearn.datasets.load_iris"
   ],
   "metadata": {
    "id": "73N5HcGtHyTN"
   }
  },
  {
   "cell_type": "markdown",
   "source": [
    "### Überprüfung\n",
    "\n",
    "Wenn alles geklappt hat, sollte der folgende Code-Abschnitt korrekt ausgeführt werden. Das Dataset wird in ein neues Objekt umgewandelt (nicht so wichtig fürs erste) und anschließend werden die ersten 5 Zeilen der Tabelle ausgegeben."
   ],
   "metadata": {
    "id": "SXMN9BJ7MIrH"
   }
  },
  {
   "cell_type": "code",
   "source": [
    "# Converting the dataset to a pandas DataFrame\n",
    "iris_df = pd.DataFrame(data= np.c_[iris['data'], iris['target']],\n",
    "                     columns= iris['feature_names'] + ['target'])\n",
    "\n",
    "# Display the first five rows of the DataFrame\n",
    "print(iris_df.head())"
   ],
   "metadata": {
    "id": "oaaR-JipMHcS",
    "ExecuteTime": {
     "end_time": "2024-01-19T23:08:05.463010100Z",
     "start_time": "2024-01-19T23:08:05.445876700Z"
    }
   },
   "execution_count": 37,
   "outputs": [
    {
     "name": "stdout",
     "output_type": "stream",
     "text": [
      "   sepal length (cm)  sepal width (cm)  petal length (cm)  petal width (cm)  \\\n",
      "0                5.1               3.5                1.4               0.2   \n",
      "1                4.9               3.0                1.4               0.2   \n",
      "2                4.7               3.2                1.3               0.2   \n",
      "3                4.6               3.1                1.5               0.2   \n",
      "4                5.0               3.6                1.4               0.2   \n",
      "\n",
      "   target  \n",
      "0     0.0  \n",
      "1     0.0  \n",
      "2     0.0  \n",
      "3     0.0  \n",
      "4     0.0  \n"
     ]
    }
   ]
  },
  {
   "cell_type": "markdown",
   "source": [
    "## Sets erstellen\n",
    "\n",
    "Als nächstes erstellen wir uns ein \"Feature-Set\" (X) und ein \"Target-Set\" (y).\n",
    "\n",
    "Im Grund sind das zwei Arrays. Das eine (X) enthält die Daten der Schwertlilien, die sog. Features die meist \"X\" benannt werden. Das andere (y) enthält die zugehörigen \"Targets\", also das Label der Gattung, welche zu den Maßen der jeweiligen Zeile gehört. Dieses Array aus Labels wird meist mit \"y\" benannt."
   ],
   "metadata": {
    "id": "cseAYdHvM1dt"
   }
  },
  {
   "cell_type": "code",
   "source": [
    "# Select only sepal length and width as the feature set (X) \n",
    "# Select the target species as the target set (y)\n",
    "X = iris_df.iloc[:, :2].values\n",
    "y = iris_df.iloc[:, -1].values\n",
    "print(\"Unique Targets:\")\n",
    "print(np.unique(y))\n"
   ],
   "metadata": {
    "id": "DFkexz7r-H2f",
    "ExecuteTime": {
     "end_time": "2024-01-19T23:08:05.488158800Z",
     "start_time": "2024-01-19T23:08:05.466011300Z"
    }
   },
   "execution_count": 38,
   "outputs": [
    {
     "name": "stdout",
     "output_type": "stream",
     "text": [
      "Unique Targets:\n",
      "[0. 1. 2.]\n"
     ]
    }
   ]
  },
  {
   "cell_type": "markdown",
   "source": [
    "## Training- und Test-Set erstellen\n",
    "\n",
    "Im nächsten Schritt müssen wir unser Dataset in ein Training-Set und ein Test-Set unterteilen. Mithilfe des Training-Sets werden wir unser Model trainieren. Das heißt, dass das Model aus diesem Set seine Muster erkennt und lernt. Mithilfe des Test-Sets überprüfen wir im Anschluss, wie gut das Model funktioniert. Das Model soll die Daten aus dem Test-Set nicht kennen, um eine unabhängige Übprüfung machen zu können.\n",
    "\n",
    "Üblicherweise werden 80% der vorhandenen Daten in das Training-Set gesteckt, die übrigen 20% werden für das Test-Set verwendet.\n",
    "\n",
    "Um die Sets zu erstellen, nutzen wir die Funktion *train_test_split* aus der Scikit-Learn library. \n",
    "\n",
    "---\n",
    "\n",
    "### **Task 03**\n",
    "\n",
    "Importiert *train_test_split* im ersten Code-Abschnitt.\n",
    "\n",
    "Versucht über die Dokumentation selbst herauszufinden, wie der Import funktioniert.\n",
    "\n",
    "Dokumentation *train_test_split*:\n",
    "https://scikit-learn.org/stable/modules/generated/sklearn.model_selection.train_test_split.html\n",
    "\n",
    "\n",
    "---\n",
    "\n",
    "### **Task 04**\n",
    "\n",
    "Erstellt 4 Variablen für die Trainings- und Test-Sets zu den Features (X) und den Targets (y).\n",
    "\n",
    "Die Variablen müssen folgende Namen haben:\n",
    "\n",
    "1.   X_train\n",
    "2.   X_test\n",
    "3.   y_train\n",
    "4.   y_test\n",
    "\n",
    "\n",
    "*Python Tipp:*\n",
    "```\n",
    "# Syntax for creating multiple variables at once\n",
    "a, b, c = ...\n",
    "```\n",
    "\n",
    "Die Variablen sollen über die Funktion *train_test_split* befüllt werden. Über die Dokumentation (siehe oben) findet ihr die korrekte Anwendungsweise.\n",
    "\n",
    "**Beachtet**: Setzt die Größe des Test-Sets auf 20% (0.2) und den random_state auf 1!"
   ],
   "metadata": {
    "id": "3g5PTd-tNpLS"
   }
  },
  {
   "cell_type": "code",
   "source": [
    "# Task 04: Split the dataset into training set and test set\n",
    "X_train, X_test, y_train, y_test = train_test_split(X, y, test_size=0.2, random_state=1)"
   ],
   "metadata": {
    "id": "iMUqh9RM-KQn",
    "ExecuteTime": {
     "end_time": "2024-01-19T23:08:05.518279Z",
     "start_time": "2024-01-19T23:08:05.469165900Z"
    }
   },
   "execution_count": 39,
   "outputs": []
  },
  {
   "cell_type": "markdown",
   "source": [
    "## Classifier erstellen\n",
    "\n",
    "Der K-Nearest Neighbors Algorithmus ist bereits in der Library implementiert. Um ihn zu nutzen müssen wir *KNeighborsClassifier* importieren.\n",
    "\n",
    "\n",
    "---\n",
    "\n",
    "\n",
    "### **Task 05**\n",
    "\n",
    "Importiert den KNN Classifier im ersten Code-Abschnitt.\n",
    "\n",
    "Versucht wieder über die Dokumentation selbst herauszufinden, wie der Import funktioniert.\n",
    "\n",
    "Dokumentation: https://scikit-learn.org/stable/modules/generated/sklearn.neighbors.KNeighborsClassifier.html\n",
    "\n",
    "\n",
    "---\n",
    "\n",
    "### **Task 06**\n",
    "\n",
    "Erstelllt den Classifier und nehmt 3 für das \"k\" (*n_neighbors*). Nutzt auch die Dokumentation (siehe oben)."
   ],
   "metadata": {
    "id": "BOtke1KaQ4pn"
   }
  },
  {
   "cell_type": "code",
   "source": [
    "# Task 06: Creating the KNN Classifier\n",
    "knn = KNeighborsClassifier(n_neighbors=3)"
   ],
   "metadata": {
    "id": "ICtZq4d--Lwy",
    "ExecuteTime": {
     "end_time": "2024-01-19T23:08:05.518279Z",
     "start_time": "2024-01-19T23:08:05.472520900Z"
    }
   },
   "execution_count": 40,
   "outputs": []
  },
  {
   "cell_type": "markdown",
   "source": [
    "## Das Model trainieren\n",
    "\n",
    "Nachdem wir den Classifier erstellt haben, können wir das Model trainieren.\n",
    "\n",
    "\n",
    "---\n",
    "\n",
    "\n",
    "### **Task 07**\n",
    "\n",
    "Für das Training können wir die *.fit()* Methode nutzen. Als Parameter müssen wir die beiden Training-Sets übergeben.\n",
    "\n",
    "Dokumentation (*.fit()*): https://scikit-learn.org/stable/modules/generated/sklearn.neighbors.KNeighborsClassifier.html#sklearn.neighbors.KNeighborsClassifier.fit"
   ],
   "metadata": {
    "id": "maCVUuhfRp8f"
   }
  },
  {
   "cell_type": "code",
   "source": [
    "# Task 07: Train the model using the training datasets\n",
    "knn.fit(X_train, y_train)"
   ],
   "metadata": {
    "id": "WJ2ha4ZGRqDK",
    "ExecuteTime": {
     "end_time": "2024-01-19T23:08:05.521507800Z",
     "start_time": "2024-01-19T23:08:05.491162600Z"
    }
   },
   "execution_count": 41,
   "outputs": [
    {
     "data": {
      "text/plain": "KNeighborsClassifier(n_neighbors=3)",
      "text/html": "<style>#sk-container-id-4 {\n  /* Definition of color scheme common for light and dark mode */\n  --sklearn-color-text: black;\n  --sklearn-color-line: gray;\n  /* Definition of color scheme for unfitted estimators */\n  --sklearn-color-unfitted-level-0: #fff5e6;\n  --sklearn-color-unfitted-level-1: #f6e4d2;\n  --sklearn-color-unfitted-level-2: #ffe0b3;\n  --sklearn-color-unfitted-level-3: chocolate;\n  /* Definition of color scheme for fitted estimators */\n  --sklearn-color-fitted-level-0: #f0f8ff;\n  --sklearn-color-fitted-level-1: #d4ebff;\n  --sklearn-color-fitted-level-2: #b3dbfd;\n  --sklearn-color-fitted-level-3: cornflowerblue;\n\n  /* Specific color for light theme */\n  --sklearn-color-text-on-default-background: var(--sg-text-color, var(--theme-code-foreground, var(--jp-content-font-color1, black)));\n  --sklearn-color-background: var(--sg-background-color, var(--theme-background, var(--jp-layout-color0, white)));\n  --sklearn-color-border-box: var(--sg-text-color, var(--theme-code-foreground, var(--jp-content-font-color1, black)));\n  --sklearn-color-icon: #696969;\n\n  @media (prefers-color-scheme: dark) {\n    /* Redefinition of color scheme for dark theme */\n    --sklearn-color-text-on-default-background: var(--sg-text-color, var(--theme-code-foreground, var(--jp-content-font-color1, white)));\n    --sklearn-color-background: var(--sg-background-color, var(--theme-background, var(--jp-layout-color0, #111)));\n    --sklearn-color-border-box: var(--sg-text-color, var(--theme-code-foreground, var(--jp-content-font-color1, white)));\n    --sklearn-color-icon: #878787;\n  }\n}\n\n#sk-container-id-4 {\n  color: var(--sklearn-color-text);\n}\n\n#sk-container-id-4 pre {\n  padding: 0;\n}\n\n#sk-container-id-4 input.sk-hidden--visually {\n  border: 0;\n  clip: rect(1px 1px 1px 1px);\n  clip: rect(1px, 1px, 1px, 1px);\n  height: 1px;\n  margin: -1px;\n  overflow: hidden;\n  padding: 0;\n  position: absolute;\n  width: 1px;\n}\n\n#sk-container-id-4 div.sk-dashed-wrapped {\n  border: 1px dashed var(--sklearn-color-line);\n  margin: 0 0.4em 0.5em 0.4em;\n  box-sizing: border-box;\n  padding-bottom: 0.4em;\n  background-color: var(--sklearn-color-background);\n}\n\n#sk-container-id-4 div.sk-container {\n  /* jupyter's `normalize.less` sets `[hidden] { display: none; }`\n     but bootstrap.min.css set `[hidden] { display: none !important; }`\n     so we also need the `!important` here to be able to override the\n     default hidden behavior on the sphinx rendered scikit-learn.org.\n     See: https://github.com/scikit-learn/scikit-learn/issues/21755 */\n  display: inline-block !important;\n  position: relative;\n}\n\n#sk-container-id-4 div.sk-text-repr-fallback {\n  display: none;\n}\n\ndiv.sk-parallel-item,\ndiv.sk-serial,\ndiv.sk-item {\n  /* draw centered vertical line to link estimators */\n  background-image: linear-gradient(var(--sklearn-color-text-on-default-background), var(--sklearn-color-text-on-default-background));\n  background-size: 2px 100%;\n  background-repeat: no-repeat;\n  background-position: center center;\n}\n\n/* Parallel-specific style estimator block */\n\n#sk-container-id-4 div.sk-parallel-item::after {\n  content: \"\";\n  width: 100%;\n  border-bottom: 2px solid var(--sklearn-color-text-on-default-background);\n  flex-grow: 1;\n}\n\n#sk-container-id-4 div.sk-parallel {\n  display: flex;\n  align-items: stretch;\n  justify-content: center;\n  background-color: var(--sklearn-color-background);\n  position: relative;\n}\n\n#sk-container-id-4 div.sk-parallel-item {\n  display: flex;\n  flex-direction: column;\n}\n\n#sk-container-id-4 div.sk-parallel-item:first-child::after {\n  align-self: flex-end;\n  width: 50%;\n}\n\n#sk-container-id-4 div.sk-parallel-item:last-child::after {\n  align-self: flex-start;\n  width: 50%;\n}\n\n#sk-container-id-4 div.sk-parallel-item:only-child::after {\n  width: 0;\n}\n\n/* Serial-specific style estimator block */\n\n#sk-container-id-4 div.sk-serial {\n  display: flex;\n  flex-direction: column;\n  align-items: center;\n  background-color: var(--sklearn-color-background);\n  padding-right: 1em;\n  padding-left: 1em;\n}\n\n\n/* Toggleable style: style used for estimator/Pipeline/ColumnTransformer box that is\nclickable and can be expanded/collapsed.\n- Pipeline and ColumnTransformer use this feature and define the default style\n- Estimators will overwrite some part of the style using the `sk-estimator` class\n*/\n\n/* Pipeline and ColumnTransformer style (default) */\n\n#sk-container-id-4 div.sk-toggleable {\n  /* Default theme specific background. It is overwritten whether we have a\n  specific estimator or a Pipeline/ColumnTransformer */\n  background-color: var(--sklearn-color-background);\n}\n\n/* Toggleable label */\n#sk-container-id-4 label.sk-toggleable__label {\n  cursor: pointer;\n  display: block;\n  width: 100%;\n  margin-bottom: 0;\n  padding: 0.5em;\n  box-sizing: border-box;\n  text-align: center;\n}\n\n#sk-container-id-4 label.sk-toggleable__label-arrow:before {\n  /* Arrow on the left of the label */\n  content: \"▸\";\n  float: left;\n  margin-right: 0.25em;\n  color: var(--sklearn-color-icon);\n}\n\n#sk-container-id-4 label.sk-toggleable__label-arrow:hover:before {\n  color: var(--sklearn-color-text);\n}\n\n/* Toggleable content - dropdown */\n\n#sk-container-id-4 div.sk-toggleable__content {\n  max-height: 0;\n  max-width: 0;\n  overflow: hidden;\n  text-align: left;\n  /* unfitted */\n  background-color: var(--sklearn-color-unfitted-level-0);\n}\n\n#sk-container-id-4 div.sk-toggleable__content.fitted {\n  /* fitted */\n  background-color: var(--sklearn-color-fitted-level-0);\n}\n\n#sk-container-id-4 div.sk-toggleable__content pre {\n  margin: 0.2em;\n  border-radius: 0.25em;\n  color: var(--sklearn-color-text);\n  /* unfitted */\n  background-color: var(--sklearn-color-unfitted-level-0);\n}\n\n#sk-container-id-4 div.sk-toggleable__content.fitted pre {\n  /* unfitted */\n  background-color: var(--sklearn-color-fitted-level-0);\n}\n\n#sk-container-id-4 input.sk-toggleable__control:checked~div.sk-toggleable__content {\n  /* Expand drop-down */\n  max-height: 200px;\n  max-width: 100%;\n  overflow: auto;\n}\n\n#sk-container-id-4 input.sk-toggleable__control:checked~label.sk-toggleable__label-arrow:before {\n  content: \"▾\";\n}\n\n/* Pipeline/ColumnTransformer-specific style */\n\n#sk-container-id-4 div.sk-label input.sk-toggleable__control:checked~label.sk-toggleable__label {\n  color: var(--sklearn-color-text);\n  background-color: var(--sklearn-color-unfitted-level-2);\n}\n\n#sk-container-id-4 div.sk-label.fitted input.sk-toggleable__control:checked~label.sk-toggleable__label {\n  background-color: var(--sklearn-color-fitted-level-2);\n}\n\n/* Estimator-specific style */\n\n/* Colorize estimator box */\n#sk-container-id-4 div.sk-estimator input.sk-toggleable__control:checked~label.sk-toggleable__label {\n  /* unfitted */\n  background-color: var(--sklearn-color-unfitted-level-2);\n}\n\n#sk-container-id-4 div.sk-estimator.fitted input.sk-toggleable__control:checked~label.sk-toggleable__label {\n  /* fitted */\n  background-color: var(--sklearn-color-fitted-level-2);\n}\n\n#sk-container-id-4 div.sk-label label.sk-toggleable__label,\n#sk-container-id-4 div.sk-label label {\n  /* The background is the default theme color */\n  color: var(--sklearn-color-text-on-default-background);\n}\n\n/* On hover, darken the color of the background */\n#sk-container-id-4 div.sk-label:hover label.sk-toggleable__label {\n  color: var(--sklearn-color-text);\n  background-color: var(--sklearn-color-unfitted-level-2);\n}\n\n/* Label box, darken color on hover, fitted */\n#sk-container-id-4 div.sk-label.fitted:hover label.sk-toggleable__label.fitted {\n  color: var(--sklearn-color-text);\n  background-color: var(--sklearn-color-fitted-level-2);\n}\n\n/* Estimator label */\n\n#sk-container-id-4 div.sk-label label {\n  font-family: monospace;\n  font-weight: bold;\n  display: inline-block;\n  line-height: 1.2em;\n}\n\n#sk-container-id-4 div.sk-label-container {\n  text-align: center;\n}\n\n/* Estimator-specific */\n#sk-container-id-4 div.sk-estimator {\n  font-family: monospace;\n  border: 1px dotted var(--sklearn-color-border-box);\n  border-radius: 0.25em;\n  box-sizing: border-box;\n  margin-bottom: 0.5em;\n  /* unfitted */\n  background-color: var(--sklearn-color-unfitted-level-0);\n}\n\n#sk-container-id-4 div.sk-estimator.fitted {\n  /* fitted */\n  background-color: var(--sklearn-color-fitted-level-0);\n}\n\n/* on hover */\n#sk-container-id-4 div.sk-estimator:hover {\n  /* unfitted */\n  background-color: var(--sklearn-color-unfitted-level-2);\n}\n\n#sk-container-id-4 div.sk-estimator.fitted:hover {\n  /* fitted */\n  background-color: var(--sklearn-color-fitted-level-2);\n}\n\n/* Specification for estimator info (e.g. \"i\" and \"?\") */\n\n/* Common style for \"i\" and \"?\" */\n\n.sk-estimator-doc-link,\na:link.sk-estimator-doc-link,\na:visited.sk-estimator-doc-link {\n  float: right;\n  font-size: smaller;\n  line-height: 1em;\n  font-family: monospace;\n  background-color: var(--sklearn-color-background);\n  border-radius: 1em;\n  height: 1em;\n  width: 1em;\n  text-decoration: none !important;\n  margin-left: 1ex;\n  /* unfitted */\n  border: var(--sklearn-color-unfitted-level-1) 1pt solid;\n  color: var(--sklearn-color-unfitted-level-1);\n}\n\n.sk-estimator-doc-link.fitted,\na:link.sk-estimator-doc-link.fitted,\na:visited.sk-estimator-doc-link.fitted {\n  /* fitted */\n  border: var(--sklearn-color-fitted-level-1) 1pt solid;\n  color: var(--sklearn-color-fitted-level-1);\n}\n\n/* On hover */\ndiv.sk-estimator:hover .sk-estimator-doc-link:hover,\n.sk-estimator-doc-link:hover,\ndiv.sk-label-container:hover .sk-estimator-doc-link:hover,\n.sk-estimator-doc-link:hover {\n  /* unfitted */\n  background-color: var(--sklearn-color-unfitted-level-3);\n  color: var(--sklearn-color-background);\n  text-decoration: none;\n}\n\ndiv.sk-estimator.fitted:hover .sk-estimator-doc-link.fitted:hover,\n.sk-estimator-doc-link.fitted:hover,\ndiv.sk-label-container:hover .sk-estimator-doc-link.fitted:hover,\n.sk-estimator-doc-link.fitted:hover {\n  /* fitted */\n  background-color: var(--sklearn-color-fitted-level-3);\n  color: var(--sklearn-color-background);\n  text-decoration: none;\n}\n\n/* Span, style for the box shown on hovering the info icon */\n.sk-estimator-doc-link span {\n  display: none;\n  z-index: 9999;\n  position: relative;\n  font-weight: normal;\n  right: .2ex;\n  padding: .5ex;\n  margin: .5ex;\n  width: min-content;\n  min-width: 20ex;\n  max-width: 50ex;\n  color: var(--sklearn-color-text);\n  box-shadow: 2pt 2pt 4pt #999;\n  /* unfitted */\n  background: var(--sklearn-color-unfitted-level-0);\n  border: .5pt solid var(--sklearn-color-unfitted-level-3);\n}\n\n.sk-estimator-doc-link.fitted span {\n  /* fitted */\n  background: var(--sklearn-color-fitted-level-0);\n  border: var(--sklearn-color-fitted-level-3);\n}\n\n.sk-estimator-doc-link:hover span {\n  display: block;\n}\n\n/* \"?\"-specific style due to the `<a>` HTML tag */\n\n#sk-container-id-4 a.estimator_doc_link {\n  float: right;\n  font-size: 1rem;\n  line-height: 1em;\n  font-family: monospace;\n  background-color: var(--sklearn-color-background);\n  border-radius: 1rem;\n  height: 1rem;\n  width: 1rem;\n  text-decoration: none;\n  /* unfitted */\n  color: var(--sklearn-color-unfitted-level-1);\n  border: var(--sklearn-color-unfitted-level-1) 1pt solid;\n}\n\n#sk-container-id-4 a.estimator_doc_link.fitted {\n  /* fitted */\n  border: var(--sklearn-color-fitted-level-1) 1pt solid;\n  color: var(--sklearn-color-fitted-level-1);\n}\n\n/* On hover */\n#sk-container-id-4 a.estimator_doc_link:hover {\n  /* unfitted */\n  background-color: var(--sklearn-color-unfitted-level-3);\n  color: var(--sklearn-color-background);\n  text-decoration: none;\n}\n\n#sk-container-id-4 a.estimator_doc_link.fitted:hover {\n  /* fitted */\n  background-color: var(--sklearn-color-fitted-level-3);\n}\n</style><div id=\"sk-container-id-4\" class=\"sk-top-container\"><div class=\"sk-text-repr-fallback\"><pre>KNeighborsClassifier(n_neighbors=3)</pre><b>In a Jupyter environment, please rerun this cell to show the HTML representation or trust the notebook. <br />On GitHub, the HTML representation is unable to render, please try loading this page with nbviewer.org.</b></div><div class=\"sk-container\" hidden><div class=\"sk-item\"><div class=\"sk-estimator fitted sk-toggleable\"><input class=\"sk-toggleable__control sk-hidden--visually\" id=\"sk-estimator-id-4\" type=\"checkbox\" checked><label for=\"sk-estimator-id-4\" class=\"sk-toggleable__label fitted sk-toggleable__label-arrow fitted\">&nbsp;&nbsp;KNeighborsClassifier<a class=\"sk-estimator-doc-link fitted\" rel=\"noreferrer\" target=\"_blank\" href=\"https://scikit-learn.org/1.4/modules/generated/sklearn.neighbors.KNeighborsClassifier.html\">?<span>Documentation for KNeighborsClassifier</span></a><span class=\"sk-estimator-doc-link fitted\">i<span>Fitted</span></span></label><div class=\"sk-toggleable__content fitted\"><pre>KNeighborsClassifier(n_neighbors=3)</pre></div> </div></div></div></div>"
     },
     "execution_count": 41,
     "metadata": {},
     "output_type": "execute_result"
    }
   ]
  },
  {
   "cell_type": "markdown",
   "source": [
    "## Accuracy überprüfen\n",
    "\n",
    "Nachdem das Model trainiert wurde, können wir mithilfe des Test-Sets eine sog. \"prediction\" machen. Wir testen also das Model auf seine genauigkeit.\n",
    "\n",
    "\n",
    "---\n",
    "\n",
    "### **Task 08**\n",
    "\n",
    "Für den Test der Genauigkeit und anschließender Visualisierung müssen wir noch zwei letzte Methoden importieren: *confusion_matrix* und *accuracy_score* aus dem *metrics*-Modul der Scikit-Learn Library.\n",
    "\n",
    "Versucht wieder über die Dokumentation selbst herauszufinden, wie der Import funktioniert.\n",
    "\n",
    "Dokumentation (*metrics*): https://scikit-learn.org/stable/modules/classes.html#module-sklearn.metrics\n",
    "\n",
    "Dokumentation (*confusion_matrix*): https://scikit-learn.org/stable/modules/generated/sklearn.metrics.confusion_matrix.html\n",
    "\n",
    "Dokumentation (*accuracy_score*): https://scikit-learn.org/stable/modules/generated/sklearn.metrics.accuracy_score.html\n",
    "\n",
    "\n",
    "---\n",
    "\n",
    "### **Task 09**\n",
    "\n",
    "Führt die *.predict()* Methode des Classifiers (*knn*) aus und übergebt als Parameter unser Test-Set (Achtung, nur das Test-Set mit den Features, also *X*).\n",
    "\n",
    "Speichert das Ergebnis in einer Variable *y_pred*.\n",
    "\n",
    "Dokumentation (*.predict()*): https://scikit-learn.org/stable/modules/generated/sklearn.neighbors.KNeighborsClassifier.html#sklearn.neighbors.KNeighborsClassifier.predict"
   ],
   "metadata": {
    "id": "TswVc7IoToHG"
   }
  },
  {
   "cell_type": "code",
   "source": [
    "# Task 09: Predict the class for the test dataset\n",
    "y_pred = knn.predict(X_test)"
   ],
   "metadata": {
    "id": "yONLvfe3-O79",
    "ExecuteTime": {
     "end_time": "2024-01-19T23:08:05.558409300Z",
     "start_time": "2024-01-19T23:08:05.522507Z"
    }
   },
   "execution_count": 42,
   "outputs": []
  },
  {
   "cell_type": "markdown",
   "source": [
    "\n",
    "\n",
    "---\n",
    "\n",
    "\n",
    "### **Task 10**\n",
    "\n",
    "Gebt nun die Genauigkeit mithilfe der *accuracy_score*-Methode aus (Dokumentation siehe oben). Als Parameter benötigen wir die Targets aus dem Test-Set und die gespeicherten Werte unserer Prediction.\n",
    "\n",
    "*Python Tipp:*\n",
    "```\n",
    "# Syntax for printing strings/variables:\n",
    "print(\"Returnvalue of some function:\", function(x, y))\n",
    "```"
   ],
   "metadata": {
    "id": "7JetarIchDv8"
   }
  },
  {
   "cell_type": "code",
   "source": [
    "# Task 10: Model Accuracy\n",
    "accuracy = accuracy_score(y_test, y_pred)"
   ],
   "metadata": {
    "id": "OZgswvZthC9V",
    "ExecuteTime": {
     "end_time": "2024-01-19T23:08:05.563351200Z",
     "start_time": "2024-01-19T23:08:05.560866Z"
    }
   },
   "execution_count": 43,
   "outputs": []
  },
  {
   "cell_type": "markdown",
   "source": [
    "\n",
    "\n",
    "---\n",
    "\n",
    "\n",
    "### **Task 11**\n",
    "\n",
    "Ruft nun die Funktion *confusion_matrix()* auf, um eine Confusion Matrix zu erzeugen. Mit ihrer Hilfe können wir sehen, wie unser Model im Detail abgeschnitten hat. Als Parameter benötigen wir wieder die Targets aus dem Test-Set und die gespeicherten Werte unserer Prediction.\n",
    "\n",
    "Das Ergebnis speichern wir in einer Variable *cm*."
   ],
   "metadata": {
    "id": "jaOjXyKph2y5"
   }
  },
  {
   "cell_type": "code",
   "source": [
    "# Task 11: Create the confusion matrix\n",
    "cm = confusion_matrix(y_test, y_pred)\n",
    "\n",
    "# Print the matrix\n",
    "print(\"Confusion Matrix:\\n\", cm)"
   ],
   "metadata": {
    "id": "UvwXNu27-P_z",
    "ExecuteTime": {
     "end_time": "2024-01-19T23:08:05.578149800Z",
     "start_time": "2024-01-19T23:08:05.563351200Z"
    }
   },
   "execution_count": 44,
   "outputs": [
    {
     "name": "stdout",
     "output_type": "stream",
     "text": [
      "Confusion Matrix:\n",
      " [[11  0  0]\n",
      " [ 0  9  4]\n",
      " [ 0  3  3]]\n"
     ]
    }
   ]
  },
  {
   "cell_type": "markdown",
   "source": [
    "## Visuelle Einsicht in unser Model\n",
    "\n",
    "Nun können wir uns noch ansehen, wie der Algorithmus gearbeitet hat. Damit bekommen wir ein Verständnis darüber, wie unser Model funktioniert und wo wir eventuell noch etwas verbessern können.\n",
    "\n",
    "### Visualisierung der Features unseres Datensets\n",
    "\n",
    "Bevor wir unser Model ansehen, schauen wir uns einmal das Datenset genauer an. In nachfolgendem Plot sehen wir die verschiedenen Blumen und ihre Sepal Breite bzw. Höhe. "
   ],
   "metadata": {
    "id": "Obqtas9UiwVj"
   }
  },
  {
   "cell_type": "code",
   "source": [
    "plt.figure(figsize=(6, 5))\n",
    "plt.scatter(iris_df.iloc[:, 0], iris_df.iloc[:, 1], c=iris.target)\n",
    "plt.xlabel('Sepal Length cm')\n",
    "plt.ylabel('Sepal Width cm')\n",
    "plt.title('Iris dataset Sepal dimensions')\n",
    "plt.show()"
   ],
   "metadata": {
    "id": "qEIyrWce-Tlo",
    "ExecuteTime": {
     "end_time": "2024-01-19T23:08:05.631368600Z",
     "start_time": "2024-01-19T23:08:05.569148700Z"
    }
   },
   "execution_count": 45,
   "outputs": [
    {
     "data": {
      "text/plain": "<Figure size 600x500 with 1 Axes>",
      "image/png": "[encoded data removed]"
     },
     "metadata": {},
     "output_type": "display_data"
    }
   ]
  },
  {
   "cell_type": "markdown",
   "source": [
    "## Visualisierung des Models\n",
    "\n",
    "Nun sehen wir uns an, wie unser Model die Grenzen gesetzt hat:"
   ],
   "metadata": {
    "id": "ttYtsd-uTyFF"
   }
  },
  {
   "cell_type": "code",
   "source": [
    "h = .02\n",
    "cmap_light = ListedColormap(['#3D0752', '#4D8E8C', '#F7E846'])\n",
    "x_min, x_max = X[:, 0].min() - 1, X[:, 0].max() + 1\n",
    "y_min, y_max = X[:, 1].min() - 1, X[:, 1].max() + 1\n",
    "xx, yy = np.meshgrid(np.arange(x_min, x_max, h),\n",
    "                     np.arange(y_min, y_max, h))\n",
    "Z = knn.predict(np.c_[xx.ravel(), yy.ravel()])\n",
    "Z = Z.reshape(xx.shape)\n",
    "plt.figure()\n",
    "plt.pcolormesh(xx, yy, Z, cmap=cmap_light)"
   ],
   "metadata": {
    "id": "pZbBzKgYCvhi",
    "ExecuteTime": {
     "end_time": "2024-01-19T23:08:06.575285100Z",
     "start_time": "2024-01-19T23:08:05.633369500Z"
    }
   },
   "execution_count": 46,
   "outputs": [
    {
     "data": {
      "text/plain": "<matplotlib.collections.QuadMesh at 0x21c48943f50>"
     },
     "execution_count": 46,
     "metadata": {},
     "output_type": "execute_result"
    },
    {
     "data": {
      "text/plain": "<Figure size 640x480 with 1 Axes>",
      "image/png": "[encoded data removed]"
     },
     "metadata": {},
     "output_type": "display_data"
    }
   ]
  },
  {
   "cell_type": "markdown",
   "source": [
    "## Zeit zu experimentieren!\n",
    "\n",
    "Nun könnt ihr euch austoben. Der erste Schritt, wäre den \"k\"-Wert unseres Algorithmuses anzupassen, und zu sehen, wie sich die Genauigkeit verändert. Erstellt dann auch den letzten Plot neu, uns seht euch an, wie sich die Grenzen verändert haben!\n",
    "\n",
    "### Ausblick\n",
    "\n",
    "Wenn ihr euch weiter damit beschäftigen wollt, nehmt alle Werte des Datasets in den Algorithmus mit hinein, und seht euch an, wie sich die Genauigkeit verändert. Dazu müsst ihr die Aufbereitung der Daten anpassen. Lasst euch aber nicht entmutigen, wenn ihr euch mit Python oder ML allgemein noch schwer tut. Das war erst der Anfang eurer Reise in die Welt des Machine Learnings! :-)\n",
    "\n",
    "**Alles Gute!**"
   ],
   "metadata": {
    "id": "wO673hvakfbg"
   }
  }
 ]
}
